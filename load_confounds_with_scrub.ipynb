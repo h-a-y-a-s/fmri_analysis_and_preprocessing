{
 "cells": [
  {
   "cell_type": "markdown",
   "id": "e587d3fc-d1c4-4f43-9928-c2b823f0f2cc",
   "metadata": {},
   "source": [
    "# Using load confounds with scrubbing"
   ]
  },
  {
   "cell_type": "markdown",
   "id": "b1c3990e-1049-4c11-b2dc-e181fef26800",
   "metadata": {},
   "source": [
    "This tutorial explains how to use load_confounds with th scrubbing option"
   ]
  },
  {
   "cell_type": "markdown",
   "id": "6311668b-d74a-4a47-9cab-0c1bc80d2508",
   "metadata": {},
   "source": [
    "With a scrubbing-based strategy, load_confounds returns a sample_mask that removes the index of volumes exceeding the framewise displacement and standardised DVARS threshold, and all the continuous segment with less than five volumes.<br/> **Before applying scrubbing, it’s important to access the percentage of volumns scrubbed. Scrubbing is not a suitable strategy for datasets with too many high motion subjects.** <br/> \n",
    "Read more: [load_confounds](https://nilearn.github.io/stable/modules/generated/nilearn.interfaces.fmriprep.load_confounds.html?highlight=load_confounds#footcite-power2014)"
   ]
  },
  {
   "cell_type": "markdown",
   "id": "93c85e0a-6f11-48ec-8ea9-7928ae5e5baf",
   "metadata": {},
   "source": [
    "Download these packeges if you don't have them in you virtual envioroment"
   ]
  },
  {
   "cell_type": "code",
   "execution_count": 1,
   "id": "84b90071-f72f-4c8c-a5fe-4270f6f61b0a",
   "metadata": {
    "tags": []
   },
   "outputs": [],
   "source": [
    "# Download these packeges if you don't have them in you virtual envioroment. (Un-comment code)\n",
    "\n",
    "import sys\n",
    "# !{sys.executable} -m pip install numpy\n",
    "# !{sys.executable} -m pip install nibabel\n",
    "# !{sys.executable} -m pip install nilearn\n",
    "# !{sys.executable} -m pip install pandas"
   ]
  },
  {
   "cell_type": "markdown",
   "id": "a835b2a7-a1df-438f-88ef-ed2c71663e51",
   "metadata": {},
   "source": [
    "Import needed moduels "
   ]
  },
  {
   "cell_type": "code",
   "execution_count": 2,
   "id": "5f1d02c3-5c20-4aa1-ad92-2905b2a8db33",
   "metadata": {
    "tags": []
   },
   "outputs": [],
   "source": [
    "import pandas as pd\n",
    "import nibabel as nib\n",
    "from nilearn.maskers import NiftiMasker\n",
    "from nilearn import image as nimg\n",
    "from nilearn import masking"
   ]
  },
  {
   "cell_type": "markdown",
   "id": "16f2b011-01b5-4d5c-bf7a-77db9cdf54bc",
   "metadata": {
    "tags": []
   },
   "source": [
    "For using load confounds you have to load an fmriprep output functionl file. For most purpuses, if <br/>\n",
    "you are not intrested in using the aroma confounds non-aggressivley, you should use the fmriprep <br/>\n",
    "output file that ends with the suffix **\"desc-preproc_bold.nii.gz\"**\n"
   ]
  },
  {
   "cell_type": "code",
   "execution_count": 3,
   "id": "be55cf0e-4c1f-43b2-920b-5cd9f987ede8",
   "metadata": {
    "tags": []
   },
   "outputs": [],
   "source": [
    "#Load the path of the functional file according to you enviroment's path\n",
    "func_file =f\"fmriprep/derivative-sub-Y01/sub-Y01/ses-1/func/sub-Y01_ses-1_task-rest_run-1_space-MNI152NLin2009cAsym_desc-preproc_bold.nii.gz\"\n",
    "\n",
    "#Load the fmpriprep mask img\n",
    "brain_mask = f\"fmriprep/derivative-sub-Y01/sub-Y01/anat/sub-Y01_space-MNI152NLin2009cAsym_desc-brain_mask.nii.gz\""
   ]
  },
  {
   "cell_type": "markdown",
   "id": "b588596e-4f26-4468-b05f-d6c8df635177",
   "metadata": {},
   "source": [
    "load_confound returns a confounds dataframe and a sample mask.<br/>\n",
    "The confounds dataframe includes the regressors (confound colomns) selected with the spesefied strategy when calling the funnction.<br/>\n",
    "**The sample mask** is a mask for the non-study state volumes. This attribute should be passed to parameter sample_mask of nilearn.maskers.NiftiMasker or nilearn.signal.clean. <br/>\n",
    "The sample mask is espitially important when using the scrubbing opttion as it specifies which voxels the index of volumes exceeding the framewise displacement."
   ]
  },
  {
   "cell_type": "markdown",
   "id": "e4911367-af7a-49ed-b35f-1e32f9339845",
   "metadata": {},
   "source": [
    "#### **Load confounds parameters with scrubbing**"
   ]
  },
  {
   "cell_type": "markdown",
   "id": "12e911db-3481-4a91-9f42-f608ac6f0e2f",
   "metadata": {},
   "source": [
    "Make sure to include \"scrub\" in your strategy and specify the associated parameter: scrub, fd_threshold, std_dvars_threshold.\n",
    "\n",
    "**scrub** int, default 5: <br/>\n",
    "After accounting for time frames with excessive motion, further remove segments shorter than the given number. The default value is 5 (referred as full scrubbing in [this paper](https://www.sciencedirect.com/science/article/pii/S1053811913009117)). When the value is 0, temove time frames based on excessive framewise displacement and DVARS only. One-hot encoding vectors are added as regressors for each scrubbed frame.<br/>\n",
    "**fd_threshold** float, default 0.2:  <br/>\n",
    "Framewise displacement threshold for scrub (default = 0.2 mm): <br/>\n",
    "**std_dvars_threshold** float, default 3:<br/>\n",
    "Standardized DVARS threshold for scrub (default = 3).\n",
    "DVARs is defined as root mean squared intensity difference of volume N to volume N+1 4. D referring to temporal derivative of timecourses, VARS referring to root mean squared variance over voxels.<br/>\n",
    "\n"
   ]
  },
  {
   "cell_type": "code",
   "execution_count": 4,
   "id": "f021e964-cfad-46c3-9962-0f31b2193ab9",
   "metadata": {
    "tags": []
   },
   "outputs": [],
   "source": [
    "#Load the module that allows for flexible paramters strategy \n",
    "from nilearn.interfaces.fmriprep import load_confounds\n",
    "\n",
    "#Extract confounds from fmripreps tsv confounds file\n",
    "confounds, sample_mask = load_confounds( func_file ,strategy=[\"motion\", \"wm_csf\", \"scrub\"], motion=\"basic\", wm_csf=\"basic\", \n",
    "                                                          scrub=5, fd_threshold=0.2, std_dvars_threshold=3)"
   ]
  },
  {
   "cell_type": "code",
   "execution_count": 5,
   "id": "93cbaa38-28fd-4a2e-ae02-3a5038dfae99",
   "metadata": {
    "tags": []
   },
   "outputs": [
    {
     "data": {
      "text/html": [
       "<div>\n",
       "<style scoped>\n",
       "    .dataframe tbody tr th:only-of-type {\n",
       "        vertical-align: middle;\n",
       "    }\n",
       "\n",
       "    .dataframe tbody tr th {\n",
       "        vertical-align: top;\n",
       "    }\n",
       "\n",
       "    .dataframe thead th {\n",
       "        text-align: right;\n",
       "    }\n",
       "</style>\n",
       "<table border=\"1\" class=\"dataframe\">\n",
       "  <thead>\n",
       "    <tr style=\"text-align: right;\">\n",
       "      <th></th>\n",
       "      <th>csf</th>\n",
       "      <th>rot_x</th>\n",
       "      <th>rot_y</th>\n",
       "      <th>rot_z</th>\n",
       "      <th>trans_x</th>\n",
       "      <th>trans_y</th>\n",
       "      <th>trans_z</th>\n",
       "      <th>white_matter</th>\n",
       "    </tr>\n",
       "  </thead>\n",
       "  <tbody>\n",
       "    <tr>\n",
       "      <th>0</th>\n",
       "      <td>6.563275</td>\n",
       "      <td>-0.001496</td>\n",
       "      <td>-0.001536</td>\n",
       "      <td>-0.000417</td>\n",
       "      <td>0.030476</td>\n",
       "      <td>-0.058516</td>\n",
       "      <td>-0.098625</td>\n",
       "      <td>-0.198772</td>\n",
       "    </tr>\n",
       "    <tr>\n",
       "      <th>1</th>\n",
       "      <td>2.642220</td>\n",
       "      <td>-0.001702</td>\n",
       "      <td>-0.001649</td>\n",
       "      <td>-0.000417</td>\n",
       "      <td>0.035698</td>\n",
       "      <td>0.036520</td>\n",
       "      <td>-0.058892</td>\n",
       "      <td>-0.291134</td>\n",
       "    </tr>\n",
       "    <tr>\n",
       "      <th>2</th>\n",
       "      <td>-0.565720</td>\n",
       "      <td>-0.001526</td>\n",
       "      <td>-0.001536</td>\n",
       "      <td>-0.000417</td>\n",
       "      <td>0.035863</td>\n",
       "      <td>-0.099453</td>\n",
       "      <td>-0.091586</td>\n",
       "      <td>-0.343848</td>\n",
       "    </tr>\n",
       "    <tr>\n",
       "      <th>3</th>\n",
       "      <td>-2.643851</td>\n",
       "      <td>-0.001493</td>\n",
       "      <td>-0.001353</td>\n",
       "      <td>-0.000417</td>\n",
       "      <td>0.040728</td>\n",
       "      <td>-0.031964</td>\n",
       "      <td>-0.070679</td>\n",
       "      <td>-0.609428</td>\n",
       "    </tr>\n",
       "    <tr>\n",
       "      <th>4</th>\n",
       "      <td>-1.325184</td>\n",
       "      <td>-0.001642</td>\n",
       "      <td>-0.001353</td>\n",
       "      <td>-0.000417</td>\n",
       "      <td>0.040728</td>\n",
       "      <td>0.007792</td>\n",
       "      <td>-0.079698</td>\n",
       "      <td>0.272923</td>\n",
       "    </tr>\n",
       "  </tbody>\n",
       "</table>\n",
       "</div>"
      ],
      "text/plain": [
       "        csf     rot_x     rot_y     rot_z   trans_x   trans_y   trans_z  \\\n",
       "0  6.563275 -0.001496 -0.001536 -0.000417  0.030476 -0.058516 -0.098625   \n",
       "1  2.642220 -0.001702 -0.001649 -0.000417  0.035698  0.036520 -0.058892   \n",
       "2 -0.565720 -0.001526 -0.001536 -0.000417  0.035863 -0.099453 -0.091586   \n",
       "3 -2.643851 -0.001493 -0.001353 -0.000417  0.040728 -0.031964 -0.070679   \n",
       "4 -1.325184 -0.001642 -0.001353 -0.000417  0.040728  0.007792 -0.079698   \n",
       "\n",
       "   white_matter  \n",
       "0     -0.198772  \n",
       "1     -0.291134  \n",
       "2     -0.343848  \n",
       "3     -0.609428  \n",
       "4      0.272923  "
      ]
     },
     "execution_count": 5,
     "metadata": {},
     "output_type": "execute_result"
    }
   ],
   "source": [
    "confounds.head()"
   ]
  },
  {
   "cell_type": "markdown",
   "id": "93c4a436-d08f-45cc-a1e8-50e03ea070e1",
   "metadata": {},
   "source": [
    "Let's take a look at tha sample mask <br/>\n",
    "shape: (number of scans - number of volumes removed, ) <br>\n",
    "Meaning - the indecies of the niimgs along time/fourth dimension for **valid volumes for subsequent analysis**."
   ]
  },
  {
   "cell_type": "code",
   "execution_count": 6,
   "id": "85495d51-5a39-4f68-af7f-cc4269b023e9",
   "metadata": {
    "tags": []
   },
   "outputs": [
    {
     "name": "stdout",
     "output_type": "stream",
     "text": [
      "Indecies of valid volumes:\n",
      "[  0   1   2   3   4   5  19  20  21  22  23  24  25  60  61  62  63  64\n",
      "  65  66  86  87  88  89  90  91  92  93  94  95 113 114 115 116 117 168\n",
      " 169 170 171 172 173 174 175 187 188 189 190 191 192 193 197 198 199 200\n",
      " 201 202 203]\n"
     ]
    }
   ],
   "source": [
    "print(\"Indecies of valid volumes:\")\n",
    "print(sample_mask)"
   ]
  },
  {
   "cell_type": "code",
   "execution_count": 7,
   "id": "bcadfb37-998b-46ae-9ebb-b90970a70d38",
   "metadata": {
    "tags": []
   },
   "outputs": [
    {
     "data": {
      "text/plain": [
       "(57,)"
      ]
     },
     "execution_count": 7,
     "metadata": {},
     "output_type": "execute_result"
    }
   ],
   "source": [
    "sample_mask.shape "
   ]
  },
  {
   "cell_type": "markdown",
   "id": "1fb46d38-f85e-4b1c-aabe-0ae01abb9fbc",
   "metadata": {},
   "source": [
    "So, only 57 volumes are valid!<br/>\n",
    "Keeping in mind that:"
   ]
  },
  {
   "cell_type": "code",
   "execution_count": 8,
   "id": "4188d9df-adbe-41e0-9f7c-0c0910ec6656",
   "metadata": {
    "tags": []
   },
   "outputs": [
    {
     "name": "stdout",
     "output_type": "stream",
     "text": [
      "Total number of volumes is 379\n"
     ]
    }
   ],
   "source": [
    "print(f\"Total number of volumes is {len(confounds.index)}\")"
   ]
  },
  {
   "cell_type": "code",
   "execution_count": null,
   "id": "4af335b4-6e9b-488e-ae60-6727753f93a5",
   "metadata": {
    "tags": []
   },
   "outputs": [
    {
     "name": "stdout",
     "output_type": "stream",
     "text": [
      "[NiftiMasker.fit] Loading data from None\n",
      "[NiftiMasker.fit] Resampling mask\n",
      "[Memory]0.0s, 0.0min    : Loading resample_img...\n",
      "________________________________________resample_img cache loaded - 0.0s, 0.0min\n",
      "________________________________________________________________________________\n",
      "[Memory] Calling nilearn.maskers.nifti_masker._filter_and_mask...\n",
      "_filter_and_mask('fmriprep/derivative-sub-Y01/sub-Y01/ses-1/func/sub-Y01_ses-1_task-rest_run-1_space-MNI152NLin2009cAsym_desc-preproc_bold.nii.gz', \n",
      "<nibabel.nifti1.Nifti1Image object at 0x7f5b1f359000>, { 'detrend': False,\n",
      "  'dtype': None,\n",
      "  'high_pass': 0.01,\n",
      "  'high_variance_confounds': False,\n",
      "  'low_pass': 0.1,\n",
      "  'reports': True,\n",
      "  'runs': None,\n",
      "  'smoothing_fwhm': None,\n",
      "  'standardize': True,\n",
      "  'standardize_confounds': True,\n",
      "  't_r': 1.4,\n",
      "  'target_affine': None,\n",
      "  'target_shape': None}, memory_level=1, memory=Memory(location=nilearn_cache/joblib), verbose=5, confounds=[            csf     rot_x     rot_y     rot_z   trans_x   trans_y   trans_z  \\\n",
      "0     6.563275 -0.001496 -0.001536 -0.000417  0.030476 -0.058516 -0.098625   \n",
      "1     2.642220 -0.001702 -0.001649 -0.000417  0.035698  0.036520 -0.058892   \n",
      "2    -0.565720 -0.001526 -0.001536 -0.000417  0.035863 -0.099453 -0.091586   \n",
      "3    -2.643851 -0.001493 -0.001353 -0.000417  0.040728 -0.031964 -0.070679   \n",
      "4    -1.325184 -0.001642 -0.001353 -0.000417  0.040728  0.007792 -0.079698   \n",
      "..         ...       ...       ...       ...       ...       ...       ...   \n",
      "374   8.356671  0.013575  0.001230  0.002407  0.064009  0.134806  0.021887   \n",
      "375  11.176794  0.013663  0.001190  0.002310  0.075543  0.338598  0.065344   \n",
      "376  10.222173  0.014256  0.001297  0.002734  0.071084  0.172849  0.013202   \n",
      "377   9.764917  0.014701  0.001381  0.002562  0.069564  0.287572  0.008751   \n",
      "378   9.348564  0.014428  0.001202  0.002614  0.071099  0.311885  0.043029   \n",
      "\n",
      "     white_matter  \n",
      "0       -0.198772  \n",
      "1       -0.291134  \n",
      "2       -0.343848  \n",
      "3       -0.609428  \n",
      "4        0.272923  \n",
      "..            ...  \n",
      "374     -2.251585  \n",
      "375     -2.502246  \n",
      "376     -1.544129  \n",
      "377     -2.163133  \n",
      "378     -2.083369  \n",
      "\n",
      "[379 rows x 8 columns]], sample_mask=array([  0,   1,   2,   3,   4,   5,  19,  20,  21,  22,  23,  24,  25,\n",
      "        60,  61,  62,  63,  64,  65,  66,  86,  87,  88,  89,  90,  91,\n",
      "        92,  93,  94,  95, 113, 114, 115, 116, 117, 168, 169, 170, 171,\n",
      "       172, 173, 174, 175, 187, 188, 189, 190, 191, 192, 193, 197, 198,\n",
      "       199, 200, 201, 202, 203]), copy=True, dtype=None)\n",
      "[NiftiMasker.transform_single_imgs] Loading data from Nifti1Image('fmriprep/derivative-sub-Y01/sub-Y01/ses-1/func/sub-Y01_ses-1_task-rest_run-1_space-MNI152NLin2009cAsym_desc-preproc_bold.nii.gz')\n",
      "[NiftiMasker.transform_single_imgs] Resampling images\n"
     ]
    }
   ],
   "source": [
    "#Masker is used for applying a mask to extract time-series from Niimg-like objects\n",
    "## Not sure wether o standardize signal\n",
    "masker= NiftiMasker(mask_img=brain_mask, memory='nilearn_cache', verbose=5, t_r=1.4, low_pass=0.1, high_pass=0.01)\n",
    "\n",
    "#Extract time series and regress out confounds using GLM\n",
    "time_series = masker.fit_transform(func_file, confounds=confounds, sample_mask=sample_mask)\n",
    "\n",
    "# Transform the 2D data matrix back to an image in brain space\n",
    "clean_img = masker.inverse_transform(time_series)"
   ]
  },
  {
   "cell_type": "code",
   "execution_count": null,
   "id": "f4c5b236-f7c7-4a00-8405-6bc4388944dd",
   "metadata": {},
   "outputs": [],
   "source": [
    "nib.save(clean_img, f\"tutorial/sub-01_ses-01_run-01_cleaned_scrub.nii.gz\")"
   ]
  }
 ],
 "metadata": {
  "kernelspec": {
   "display_name": "Python 3 (ipykernel)",
   "language": "python",
   "name": "python3"
  },
  "language_info": {
   "codemirror_mode": {
    "name": "ipython",
    "version": 3
   },
   "file_extension": ".py",
   "mimetype": "text/x-python",
   "name": "python",
   "nbconvert_exporter": "python",
   "pygments_lexer": "ipython3",
   "version": "3.10.6"
  }
 },
 "nbformat": 4,
 "nbformat_minor": 5
}
