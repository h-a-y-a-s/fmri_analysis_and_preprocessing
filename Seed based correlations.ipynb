{
 "cells": [
  {
   "cell_type": "markdown",
   "id": "7a22bebd",
   "metadata": {},
   "source": [
    "### Run seed correlations on all subjects for an initial QA\n",
    "\n",
    "the code is devided into two steps:\n",
    "1. Regress out confounds.  (regressing out the confounds can be done by load_confounds instead of the method used here)\n",
    "2. Calculate seed correlations and plot.\n",
    "\n",
    "An outer for loop iterates over all subjects."
   ]
  },
  {
   "cell_type": "markdown",
   "id": "67b33264",
   "metadata": {},
   "source": [
    "### Imports"
   ]
  },
  {
   "cell_type": "code",
   "execution_count": 11,
   "id": "20a0bc96",
   "metadata": {},
   "outputs": [],
   "source": [
    "from nilearn import image as nimg\n",
    "from nilearn import plotting as nplot\n",
    "from nilearn import masking\n",
    "import pandas as pd\n",
    "import numpy as np\n",
    "from nilearn import input_data\n",
    "import os"
   ]
  },
  {
   "cell_type": "markdown",
   "id": "a0a6860b",
   "metadata": {},
   "source": [
    "#### Prepare a list of all subjects for the loop. \n",
    "The names should match the subject dirctory name.\n"
   ]
  },
  {
   "cell_type": "code",
   "execution_count": 12,
   "id": "c9206d50",
   "metadata": {},
   "outputs": [],
   "source": [
    "subs = ['Y01', 'Y02', 'Y03', 'Y04', 'Y05', 'Y06', 'Y07', 'Y08', 'Y10', 'Y11', 'Y12',\n",
    "        'Y13', 'Y14','Y16', 'Y17', 'Y19', 'Y20']\n",
    "descs = ['preproc', 'smoothAROMAnonaggr_bold']\n",
    "runs = [1 ,2]"
   ]
  },
  {
   "cell_type": "code",
   "execution_count": 16,
   "id": "acb67c89",
   "metadata": {},
   "outputs": [
    {
     "data": {
      "text/plain": [
       "'C:\\\\Users\\\\haya_\\\\Desktop\\\\fmriprep'"
      ]
     },
     "execution_count": 16,
     "metadata": {},
     "output_type": "execute_result"
    }
   ],
   "source": [
    "os.chdir('/Users/haya_/Desktop/fmriprep')\n",
    "os.getcwd()\n"
   ]
  },
  {
   "cell_type": "markdown",
   "id": "5eed2173",
   "metadata": {},
   "source": [
    "#### Set other parameters for file selection.\n",
    "The parametrs can be looped over by a for loop, but it is not possible to do so in a notebook, so I'll just use one subject."
   ]
  },
  {
   "cell_type": "code",
   "execution_count": 46,
   "id": "1904b979",
   "metadata": {},
   "outputs": [],
   "source": [
    "run = 2\n",
    "desc = 'smoothAROMAnonaggr_bold'\n",
    "sub = 'Y01'"
   ]
  },
  {
   "cell_type": "markdown",
   "id": "febc35f7",
   "metadata": {},
   "source": [
    "#### Load files:\n"
   ]
  },
  {
   "cell_type": "code",
   "execution_count": 47,
   "id": "21bd3c53",
   "metadata": {
    "scrolled": false
   },
   "outputs": [],
   "source": [
    "func_file = f'sub-{sub}/ses-1/func/sub-{sub}_ses-1_task-rest_run-{run}_' \\\n",
    "                f'space-MNI152NLin6Asym_desc-{desc}.nii.gz'\n",
    "\n",
    "\n",
    "confound_file = f'sub-{sub}/ses-1/func/sub-{sub}_ses-1_task-rest_run-{run}_' \\\n",
    "                    f'desc-confounds_timeseries.tsv'\n",
    "\n",
    "confound_df = pd.read_csv(confound_file, delimiter='\\t')"
   ]
  },
  {
   "cell_type": "markdown",
   "id": "1ee7a8ae",
   "metadata": {},
   "source": [
    "#### Load functinal image from the file path:"
   ]
  },
  {
   "cell_type": "code",
   "execution_count": 48,
   "id": "5581d8a1",
   "metadata": {},
   "outputs": [],
   "source": [
    "func_img = nimg.load_img(func_file)"
   ]
  },
  {
   "cell_type": "markdown",
   "id": "51b90720",
   "metadata": {},
   "source": [
    "#### Creating a brain mask for the functinal image. \n",
    "We do this because later we are going to be applying the mask to the img(when callling the clean_img function). And shape/dimensions of the img and the mask must match. This step is not needed if we are using a file that ends with \"desc-preproc_bold.nii.gz\", because fmriprep already supplies a matching mask for this file, but since we are not using the defult file I have to create a new matching mask.\n",
    "\n"
   ]
  },
  {
   "cell_type": "code",
   "execution_count": 49,
   "id": "b92192f4",
   "metadata": {},
   "outputs": [],
   "source": [
    "brain_mask = masking.compute_brain_mask(func_img)"
   ]
  },
  {
   "cell_type": "markdown",
   "id": "59cdd414",
   "metadata": {},
   "source": [
    "### Chossing confound regressors:"
   ]
  },
  {
   "cell_type": "markdown",
   "id": "ebcd3ce9",
   "metadata": {},
   "source": [
    "Original code from: https://github.com/carpentries-incubator/SDC-BIDS-fMRI/blob/128f3c3fbefd48c7e63ebd2660f45c0b93e31ec6/code/05_data-cleaning-with-nilearn_solutions.ipynb\n",
    "                                                                  \n",
    "The Yeo 2011 Pre-processing schema\n",
    "    Confound regressors:\n",
    "    6 motion parameters (trans_x, trans_y, trans_z, rot_x, rot_y, rot_z)\n",
    "    Global signal (global_signal)\n",
    "    Cerebral spinal fluid signal (csf)\n",
    "    White matter signal (white_matter)\n",
    "\n",
    "This is a total of 9 base confound regressor variables. \n",
    "then we add temporal derivatives of each of these signals as well (1 temporal derivative for each), the result is 18 confound regressors.\n",
    "Temporal Derivatives are the changes in values across 2 consecutive samples. It represents change in signal over time.\n",
    "For example, when dealing with the confound variable \"X\", which represents motion along the \"trans_x\" direction, \n",
    "the temporal derivative represents velocity in the X direction."
   ]
  },
  {
   "cell_type": "code",
   "execution_count": 50,
   "id": "b7605da7",
   "metadata": {},
   "outputs": [
    {
     "name": "stdout",
     "output_type": "stream",
     "text": [
      "confound df head:\n",
      "         trans_x   trans_y       trans_z     rot_x         rot_y     rot_z  \\\n",
      "0 -4.472990e-09  0.000000  3.333600e-09  0.000000 -7.801070e-05  0.000000   \n",
      "1  1.928960e-05  0.088603  6.097940e-02 -0.000284 -9.464280e-05  0.000157   \n",
      "2 -3.643880e-07 -0.045601  2.310660e-02  0.000039 -1.371490e-24  0.000202   \n",
      "3  1.410900e-05  0.020789  4.190990e-02  0.000010 -1.532280e-04  0.000136   \n",
      "4 -7.656770e-03  0.087604  3.237300e-02 -0.000347 -0.000000e+00  0.000179   \n",
      "5 -1.129550e-02 -0.058754  3.237180e-02  0.000351 -2.785430e-04  0.000000   \n",
      "6 -1.223040e-02  0.100739  6.111480e-02 -0.000006 -2.728880e-04  0.000000   \n",
      "7 -9.972980e-03 -0.001088  2.236870e-02  0.000436 -1.953240e-04  0.000000   \n",
      "8 -2.934020e-02  0.018361  3.247830e-02  0.000360 -6.942690e-06  0.000000   \n",
      "9 -2.518650e-02  0.074818  5.013930e-02  0.000602  3.264110e-05  0.000000   \n",
      "\n",
      "   global_signal         csf  white_matter  trans_x_derivative1  \\\n",
      "0     571.392746  487.973242    542.334672                  NaN   \n",
      "1     570.148566  483.478172    541.410483             0.000019   \n",
      "2     568.657792  480.102519    540.997292            -0.000020   \n",
      "3     568.009606  476.473548    540.204898             0.000014   \n",
      "4     567.386158  477.674833    540.590564            -0.007671   \n",
      "5     568.906355  477.926058    541.024376            -0.003639   \n",
      "6     569.850669  477.660780    541.016082            -0.000935   \n",
      "7     569.966198  480.044273    542.119773             0.002257   \n",
      "8     569.812576  477.610009    541.991077            -0.019367   \n",
      "9     568.742639  479.253762    541.560382             0.004154   \n",
      "\n",
      "   trans_y_derivative1  trans_z_derivative1  rot_x_derivative1  \\\n",
      "0                  NaN                  NaN                NaN   \n",
      "1             0.088603             0.060979          -0.000284   \n",
      "2            -0.134204            -0.037873           0.000323   \n",
      "3             0.066390             0.018803          -0.000029   \n",
      "4             0.066815            -0.009537          -0.000357   \n",
      "5            -0.146357            -0.000001           0.000698   \n",
      "6             0.159493             0.028743          -0.000357   \n",
      "7            -0.101827            -0.038746           0.000442   \n",
      "8             0.019449             0.010110          -0.000077   \n",
      "9             0.056457             0.017661           0.000242   \n",
      "\n",
      "   rot_y_derivative1  rot_z_derivative1  global_signal_derivative1  \\\n",
      "0                NaN                NaN                        NaN   \n",
      "1          -0.000017           0.000157                  -1.244180   \n",
      "2           0.000095           0.000046                  -1.490775   \n",
      "3          -0.000153          -0.000066                  -0.648186   \n",
      "4           0.000153           0.000043                  -0.623448   \n",
      "5          -0.000279          -0.000179                   1.520197   \n",
      "6           0.000006           0.000000                   0.944315   \n",
      "7           0.000078           0.000000                   0.115529   \n",
      "8           0.000188           0.000000                  -0.153622   \n",
      "9           0.000040           0.000000                  -1.069936   \n",
      "\n",
      "   csf_derivative1  white_matter_derivative1  \n",
      "0              NaN                       NaN  \n",
      "1        -4.495070                 -0.924189  \n",
      "2        -3.375653                 -0.413191  \n",
      "3        -3.628971                 -0.792394  \n",
      "4         1.201285                  0.385666  \n",
      "5         0.251224                  0.433813  \n",
      "6        -0.265278                 -0.008294  \n",
      "7         2.383493                  1.103691  \n",
      "8        -2.434264                 -0.128696  \n",
      "9         1.643753                 -0.430696  \n"
     ]
    }
   ],
   "source": [
    "# here we pick our base confound regressors as done in Yeo 2011's pre-processing framework\n",
    "confound_vars = ['trans_x', 'trans_y', 'trans_z', 'rot_x', 'rot_y', 'rot_z', 'global_signal', 'csf',\n",
    "                 'white_matter']\n",
    "\n",
    "# Get derivative column names fMRIPrep provides this for us. Derivative columns are denoted as the following:\n",
    "#     {NAME_OF_COLUMN}_derivative1\n",
    "\n",
    "derivative_columns = ['{}_derivative1'.format(c) for c in confound_vars]\n",
    "\n",
    "# print(\"derivative_columns:\\n\", derivative_columns)\n",
    "\n",
    "final_confounds = confound_vars + derivative_columns\n",
    "\n",
    "# print(\"final confounds\\n\", final_confounds)\n",
    "\n",
    "confound_df = confound_df[final_confounds]\n",
    "\n",
    "print(\"confound df head:\\n\", confound_df.head(10))"
   ]
  },
  {
   "cell_type": "markdown",
   "id": "740b8179",
   "metadata": {},
   "source": [
    "#### Removing the first 4 timepoints from our functional image:"
   ]
  },
  {
   "cell_type": "code",
   "execution_count": 51,
   "id": "dd9116ba",
   "metadata": {},
   "outputs": [
    {
     "name": "stdout",
     "output_type": "stream",
     "text": [
      "func_img shape\n",
      " (91, 109, 91, 379)\n",
      "func_img shape\n",
      " (91, 109, 91, 375)\n"
     ]
    }
   ],
   "source": [
    "print(\"func_img shape\\n\", func_img.shape)\n",
    "\n",
    "func_img = func_img.slicer[:, :, :, 4:]\n",
    "\n",
    "print(\"func_img shape\\n\", func_img.shape)\n",
    "\n"
   ]
  },
  {
   "cell_type": "markdown",
   "id": "8a9769d6",
   "metadata": {},
   "source": [
    "#### Removing the first 4 timepoints from the confounds df"
   ]
  },
  {
   "cell_type": "code",
   "execution_count": 52,
   "id": "3934ba34",
   "metadata": {},
   "outputs": [
    {
     "name": "stdout",
     "output_type": "stream",
     "text": [
      "confound df's shape:\n",
      " (379, 18)\n",
      "confound df's shape after droping first 4 trs:\n",
      " (375, 18)\n",
      "confound df head after droping first 4 trs:\n",
      "      trans_x   trans_y   trans_z     rot_x     rot_y     rot_z  global_signal  \\\n",
      "4  -0.007657  0.087604  0.032373 -0.000347 -0.000000  0.000179     567.386158   \n",
      "5  -0.011295 -0.058754  0.032372  0.000351 -0.000279  0.000000     568.906355   \n",
      "6  -0.012230  0.100739  0.061115 -0.000006 -0.000273  0.000000     569.850669   \n",
      "7  -0.009973 -0.001088  0.022369  0.000436 -0.000195  0.000000     569.966198   \n",
      "8  -0.029340  0.018361  0.032478  0.000360 -0.000007  0.000000     569.812576   \n",
      "9  -0.025187  0.074818  0.050139  0.000602  0.000033  0.000000     568.742639   \n",
      "10 -0.035734 -0.021218  0.032483  0.001285  0.000013  0.000000     569.051718   \n",
      "11 -0.032641  0.133985  0.076372  0.000852  0.000135  0.000072     568.509220   \n",
      "12 -0.026049 -0.031052  0.025206  0.001222  0.000243  0.000000     568.539577   \n",
      "13 -0.032168  0.084915  0.073131  0.001080  0.000099  0.000000     569.417622   \n",
      "\n",
      "           csf  white_matter  trans_x_derivative1  trans_y_derivative1  \\\n",
      "4   477.674833    540.590564            -0.007671             0.066815   \n",
      "5   477.926058    541.024376            -0.003639            -0.146357   \n",
      "6   477.660780    541.016082            -0.000935             0.159493   \n",
      "7   480.044273    542.119773             0.002257            -0.101827   \n",
      "8   477.610009    541.991077            -0.019367             0.019449   \n",
      "9   479.253762    541.560382             0.004154             0.056457   \n",
      "10  477.960503    541.139319            -0.010547            -0.096036   \n",
      "11  478.747725    540.348809             0.003093             0.155203   \n",
      "12  478.042789    540.467802             0.006592            -0.165037   \n",
      "13  477.586208    540.473984            -0.006119             0.115967   \n",
      "\n",
      "    trans_z_derivative1  rot_x_derivative1  rot_y_derivative1  \\\n",
      "4             -0.009537          -0.000357           0.000153   \n",
      "5             -0.000001           0.000698          -0.000279   \n",
      "6              0.028743          -0.000357           0.000006   \n",
      "7             -0.038746           0.000442           0.000078   \n",
      "8              0.010110          -0.000077           0.000188   \n",
      "9              0.017661           0.000242           0.000040   \n",
      "10            -0.017656           0.000683          -0.000019   \n",
      "11             0.043889          -0.000433           0.000121   \n",
      "12            -0.051166           0.000370           0.000108   \n",
      "13             0.047924          -0.000142          -0.000144   \n",
      "\n",
      "    rot_z_derivative1  global_signal_derivative1  csf_derivative1  \\\n",
      "4            0.000043                  -0.623448         1.201285   \n",
      "5           -0.000179                   1.520197         0.251224   \n",
      "6            0.000000                   0.944315        -0.265278   \n",
      "7            0.000000                   0.115529         2.383493   \n",
      "8            0.000000                  -0.153622        -2.434264   \n",
      "9            0.000000                  -1.069936         1.643753   \n",
      "10           0.000000                   0.309079        -1.293259   \n",
      "11           0.000072                  -0.542498         0.787222   \n",
      "12          -0.000072                   0.030356        -0.704935   \n",
      "13           0.000000                   0.878046        -0.456581   \n",
      "\n",
      "    white_matter_derivative1  \n",
      "4                   0.385666  \n",
      "5                   0.433813  \n",
      "6                  -0.008294  \n",
      "7                   1.103691  \n",
      "8                  -0.128696  \n",
      "9                  -0.430696  \n",
      "10                 -0.421063  \n",
      "11                 -0.790510  \n",
      "12                  0.118993  \n",
      "13                  0.006181  \n"
     ]
    }
   ],
   "source": [
    "print(\"confound df's shape:\\n\", confound_df.shape)\n",
    "\n",
    "confound_df = confound_df.loc[4:]\n",
    "\n",
    "print(\"confound df's shape after droping first 4 trs:\\n\", confound_df.shape)  # number of rows should match that of the functional image\n",
    "print(\"confound df head after droping first 4 trs:\\n\", confound_df.head(10))\n"
   ]
  },
  {
   "cell_type": "markdown",
   "id": "a9403f18",
   "metadata": {},
   "source": [
    "#### Convert data frame into a matrix\n"
   ]
  },
  {
   "cell_type": "code",
   "execution_count": 58,
   "id": "322a8335",
   "metadata": {},
   "outputs": [
    {
     "name": "stdout",
     "output_type": "stream",
     "text": [
      "confounds matrix shape:\n",
      " (375, 18)\n"
     ]
    }
   ],
   "source": [
    "confounds_matrix = confound_df.values\n",
    "\n",
    "# Confirm matrix size is correct\n",
    "print(\"confounds matrix shape:\\n\", confounds_matrix.shape)"
   ]
  },
  {
   "cell_type": "markdown",
   "id": "73f72fbd",
   "metadata": {},
   "source": [
    "#### Set some constants according to The Yeo 2011 Pre-processing schema\n"
   ]
  },
  {
   "cell_type": "code",
   "execution_count": 60,
   "id": "73deb93e",
   "metadata": {},
   "outputs": [],
   "source": [
    "high_pass = 0.009  # filtering minimum\n",
    "low_pass = 0.08  # filtering maximum\n",
    "t_r = 1.4"
   ]
  },
  {
   "cell_type": "markdown",
   "id": "2ba2875d",
   "metadata": {},
   "source": [
    "### Clean! "
   ]
  },
  {
   "cell_type": "code",
   "execution_count": 63,
   "id": "9107c4f8",
   "metadata": {},
   "outputs": [
    {
     "name": "stderr",
     "output_type": "stream",
     "text": [
      "C:\\Users\\haya_\\anaconda3\\lib\\site-packages\\nilearn\\image\\image.py:1106: FutureWarning: The parameter \"sessions\" will be removed in 0.9.0 release of Nilearn. Please use the parameter \"runs\" instead.\n",
      "  data = signal.clean(\n"
     ]
    }
   ],
   "source": [
    "# mask file source shuold be the actual func file\n",
    "clean_img = nimg.clean_img(func_img, confounds=confounds_matrix, detrend=True, standardize=True,\n",
    "                               low_pass=low_pass, high_pass=high_pass, t_r=t_r, mask_img=brain_mask)"
   ]
  },
  {
   "cell_type": "code",
   "execution_count": null,
   "id": "082ddbd9",
   "metadata": {},
   "outputs": [],
   "source": []
  }
 ],
 "metadata": {
  "kernelspec": {
   "display_name": "Python 3 (ipykernel)",
   "language": "python",
   "name": "python3"
  },
  "language_info": {
   "codemirror_mode": {
    "name": "ipython",
    "version": 3
   },
   "file_extension": ".py",
   "mimetype": "text/x-python",
   "name": "python",
   "nbconvert_exporter": "python",
   "pygments_lexer": "ipython3",
   "version": "3.9.7"
  }
 },
 "nbformat": 4,
 "nbformat_minor": 5
}
